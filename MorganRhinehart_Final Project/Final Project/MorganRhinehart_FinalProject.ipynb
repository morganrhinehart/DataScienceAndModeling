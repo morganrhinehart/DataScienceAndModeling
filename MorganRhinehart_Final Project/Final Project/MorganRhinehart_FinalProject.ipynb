{
 "cells": [
  {
   "cell_type": "code",
   "execution_count": 29,
   "id": "9619e8e1",
   "metadata": {
    "scrolled": true
   },
   "outputs": [
    {
     "name": "stdout",
     "output_type": "stream",
     "text": [
      "x1 = 0.0003106766919017552, x2 = 0.06105833524442885\n",
      "x1 = 0.00023521017038911774, x2 = 0.05312741330677989\n",
      "x1 = 0.00024345028801287514, x2 = 0.0540500088450918\n",
      "x1 = 0.00025200405120858155, x2 = 0.05499135036078838\n",
      "x1 = 0.00026088435433101344, x2 = 0.055951874427691534\n",
      "x1 = 0.0002701046613704239, x2 = 0.056932029091233745\n",
      "x1 = 0.0002796790328741314, x2 = 0.057932274204363636\n",
      "x1 = 0.0002896221542239614, x2 = 0.058953081774302\n",
      "x1 = 0.00029994936534206946, x2 = 0.05999493632053318\n",
      "x1 = 0.0003106766919017552, x2 = 0.06105833524442885\n"
     ]
    }
   ],
   "source": [
    "#Find the x1 and x2 values for the Lennard Jones linear equation : Ax1 + Bx2 from all 10 output files of contcar \n",
    "from pymatgen.io.vasp.inputs import Poscar\n",
    "for cont_name in ['CONTCAR','CONTCAR_3.49','CONTCAR_3.48','CONTCAR_3.47','CONTCAR_3.46', 'CONTCAR_3.45', 'CONTCAR_3.44','CONTCAR_3.43', 'CONTCAR_3.42', 'CONTCAR_3.41']:\n",
    "    # Note that you want to replace POSCAR to be the full name of your CONTCAR loop\n",
    "    str0 = Poscar.from_file(cont_name).structure \n",
    "    # This is the cutoff of your atomic distance, we assume atom pair that has distance beyond this value \n",
    "    # will not contribute to the total energy, here I use 5.0, you can change this to whatever you want\n",
    "    rcut = 20\n",
    "    n_atom = len(str0)\n",
    "\n",
    "    x1, x2 = 0.0, 0.0\n",
    "    for i in range(n_atom):\n",
    "        for j in range(n_atom):\n",
    "            if i == j:\n",
    "                continue\n",
    "            r_ij = str0.distance_matrix[i,j]\n",
    "\n",
    "            # If distance is beyond cutoff distance, it does not count\n",
    "            if r_ij > rcut:\n",
    "                continue\n",
    "\n",
    "            x1 += 1/r_ij**12\n",
    "            x2 += 1/r_ij**6 \n",
    "\n",
    "    print(f'x1 = {x1}, x2 = {x2}')"
   ]
  },
  {
   "cell_type": "code",
   "execution_count": 35,
   "id": "397b80c8",
   "metadata": {
    "scrolled": true
   },
   "outputs": [
    {
     "name": "stdout",
     "output_type": "stream",
     "text": [
      "[76151.19557037  -743.91647072]\n"
     ]
    }
   ],
   "source": [
    "#Get the total energies from the OSZICAR output files from DFT calculation\n",
    "import numpy as np\n",
    "from sklearn.linear_model import LinearRegression\n",
    "\n",
    "\n",
    "E_total = [-21.618996, -21.618996, -21.666048, -21.707778,-21.744356,-21.775927,-21.802639,-21.824717,-21.842270,-21.855472]\n",
    "                    \n",
    "x1 = [0.0003106766919017552,0.00023521017038911774,0.00024345028801287514, 0.00025200405120858155, 0.00026088435433101344, 0.0002701046613704239, 0.0002796790328741314, 0.0002896221542239614, 0.00029994936534206946, 0.0003106766919017552] \n",
    "x2 = [0.06105833524442885, 0.05312741330677989, 0.0540500088450918, 0.05499135036078838, 0.055951874427691534, 0.056932029091233745, 0.057932274204363636, 0.058953081774302, 0.05999493632053318, 0.06105833524442885] \n",
    "X = np.array([[item1, item2] for item1, item2 in zip(x1,x2)])\n",
    "\n",
    "model = LinearRegression(fit_intercept=False)\n",
    "\n",
    "model.fit(X,E_total)\n",
    "\n",
    "# The two parameters below are the two LJ potential you want to use for lammps calculation ( A and B coefficients for the LJ equation)\n",
    "print(model.coef_)"
   ]
  },
  {
   "cell_type": "code",
   "execution_count": null,
   "id": "b94e5bc8",
   "metadata": {},
   "outputs": [],
   "source": []
  }
 ],
 "metadata": {
  "kernelspec": {
   "display_name": "Python 3 (ipykernel)",
   "language": "python",
   "name": "python3"
  },
  "language_info": {
   "codemirror_mode": {
    "name": "ipython",
    "version": 3
   },
   "file_extension": ".py",
   "mimetype": "text/x-python",
   "name": "python",
   "nbconvert_exporter": "python",
   "pygments_lexer": "ipython3",
   "version": "3.9.7"
  }
 },
 "nbformat": 4,
 "nbformat_minor": 5
}
